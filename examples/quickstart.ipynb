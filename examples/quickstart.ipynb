{
 "cells": [
  {
   "metadata": {
    "ExecuteTime": {
     "end_time": "2024-07-06T20:51:33.937226Z",
     "start_time": "2024-07-06T20:51:33.934735Z"
    }
   },
   "cell_type": "code",
   "source": [
    "from tinybig.util import set_random_seed\n",
    "set_random_seed(random_seed=1234)\n",
    "DEVICE = 'mps' # or 'cpu', or 'cuda'"
   ],
   "id": "df38cd46ffc311a9",
   "outputs": [],
   "execution_count": 47
  },
  {
   "metadata": {
    "ExecuteTime": {
     "end_time": "2024-07-06T20:51:33.952267Z",
     "start_time": "2024-07-06T20:51:33.938161Z"
    }
   },
   "cell_type": "code",
   "source": [
    "from tinybig.data import mnist\n",
    "mnist_data = mnist(name='mnist', train_batch_size=64, test_batch_size=64)\n",
    "mnist_loaders = mnist_data.load(cache_dir='./data/')\n",
    "train_loader = mnist_loaders['train_loader']\n",
    "test_loader = mnist_loaders['test_loader']"
   ],
   "id": "8b8b0a9a68fa351f",
   "outputs": [],
   "execution_count": 48
  },
  {
   "metadata": {
    "ExecuteTime": {
     "end_time": "2024-07-06T20:51:33.960891Z",
     "start_time": "2024-07-06T20:51:33.953094Z"
    }
   },
   "cell_type": "code",
   "source": [
    "for X, y in train_loader:\n",
    "    print('X shape:', X.shape, 'y.shape:', y.shape)\n",
    "    print('X', X)\n",
    "    print('y', y)\n",
    "    break"
   ],
   "id": "9c83dc51c769f690",
   "outputs": [
    {
     "name": "stdout",
     "output_type": "stream",
     "text": [
      "X shape: torch.Size([64, 784]) y.shape: torch.Size([64])\n",
      "X tensor([[-0.4242, -0.4242, -0.4242,  ..., -0.4242, -0.4242, -0.4242],\n",
      "        [-0.4242, -0.4242, -0.4242,  ..., -0.4242, -0.4242, -0.4242],\n",
      "        [-0.4242, -0.4242, -0.4242,  ..., -0.4242, -0.4242, -0.4242],\n",
      "        ...,\n",
      "        [-0.4242, -0.4242, -0.4242,  ..., -0.4242, -0.4242, -0.4242],\n",
      "        [-0.4242, -0.4242, -0.4242,  ..., -0.4242, -0.4242, -0.4242],\n",
      "        [-0.4242, -0.4242, -0.4242,  ..., -0.4242, -0.4242, -0.4242]])\n",
      "y tensor([6, 6, 3, 8, 3, 2, 8, 7, 0, 9, 1, 7, 6, 6, 8, 6, 8, 2, 2, 3, 0, 6, 7, 1,\n",
      "        2, 1, 9, 2, 0, 9, 0, 2, 9, 8, 9, 3, 0, 7, 8, 1, 3, 0, 3, 6, 0, 5, 2, 1,\n",
      "        5, 3, 1, 7, 6, 2, 8, 7, 6, 7, 0, 3, 6, 3, 3, 6])\n"
     ]
    }
   ],
   "execution_count": 49
  },
  {
   "metadata": {},
   "cell_type": "markdown",
   "source": "",
   "id": "5db255ccd81e2e71"
  },
  {
   "metadata": {
    "ExecuteTime": {
     "end_time": "2024-07-06T20:51:33.966020Z",
     "start_time": "2024-07-06T20:51:33.962512Z"
    }
   },
   "cell_type": "code",
   "source": [
    "from tinybig.expansion import taylor_expansion\n",
    "\n",
    "exp_func = taylor_expansion(name='taylor_expansion', d=2, postprocess_functions='layer_norm', device=DEVICE)\n",
    "x = X[0:1,:]\n",
    "D = exp_func.calculate_D(m=x.size(1))\n",
    "print('Expansion space dimension:', D)\n",
    "\n",
    "kappa_x = exp_func(x=x)\n",
    "print('x.shape', x.shape, 'kappa_x.shape', kappa_x.shape)"
   ],
   "id": "ae8780ef8bda818f",
   "outputs": [
    {
     "name": "stdout",
     "output_type": "stream",
     "text": [
      "Expansion space dimension: 615440\n",
      "x.shape torch.Size([1, 784]) kappa_x.shape torch.Size([1, 615440])\n"
     ]
    }
   ],
   "execution_count": 50
  },
  {
   "metadata": {
    "ExecuteTime": {
     "end_time": "2024-07-06T20:51:33.968826Z",
     "start_time": "2024-07-06T20:51:33.966701Z"
    }
   },
   "cell_type": "code",
   "source": [
    "from tinybig.reconciliation import dual_lphm_reconciliation\n",
    "\n",
    "rec_func = dual_lphm_reconciliation(name='dual_lphm_reconciliation', p=8, q=784, r=5, device=DEVICE)\n",
    "l = rec_func.calculate_l(n=64, D=D)\n",
    "print('Required learnable parameter number:', l)"
   ],
   "id": "e643a430378b51d0",
   "outputs": [
    {
     "name": "stdout",
     "output_type": "stream",
     "text": [
      "Required learnable parameter number: 7925\n"
     ]
    }
   ],
   "execution_count": 51
  },
  {
   "metadata": {
    "ExecuteTime": {
     "end_time": "2024-07-06T20:51:33.971242Z",
     "start_time": "2024-07-06T20:51:33.969591Z"
    }
   },
   "cell_type": "code",
   "source": [
    "from tinybig.remainder import zero_remainder\n",
    "\n",
    "rem_func = zero_remainder(name='zero_remainder', require_parameters=False, enable_bias=False, device=DEVICE)"
   ],
   "id": "ec1686a920e55a92",
   "outputs": [],
   "execution_count": 52
  },
  {
   "metadata": {
    "ExecuteTime": {
     "end_time": "2024-07-06T20:51:33.973824Z",
     "start_time": "2024-07-06T20:51:33.971932Z"
    }
   },
   "cell_type": "code",
   "source": [
    "from tinybig.module import rpn_head\n",
    "\n",
    "head = rpn_head(m=784, n=64, channel_num=1, data_transformation=exp_func, parameter_fabrication=rec_func, remainder=rem_func, device=DEVICE)"
   ],
   "id": "1d1b7ea8dadad1fd",
   "outputs": [],
   "execution_count": 53
  },
  {
   "metadata": {
    "ExecuteTime": {
     "end_time": "2024-07-06T20:51:33.976107Z",
     "start_time": "2024-07-06T20:51:33.974422Z"
    }
   },
   "cell_type": "code",
   "source": [
    "from tinybig.module import rpn_layer\n",
    "\n",
    "layer_1 = rpn_layer(m=784, n=64, heads=[head], device=DEVICE)"
   ],
   "id": "f31c5a5267000075",
   "outputs": [],
   "execution_count": 54
  },
  {
   "metadata": {
    "ExecuteTime": {
     "end_time": "2024-07-06T20:51:33.981315Z",
     "start_time": "2024-07-06T20:51:33.978048Z"
    }
   },
   "cell_type": "code",
   "source": [
    "layer_2 = rpn_layer(\n",
    "    m=64, n=64, heads=[\n",
    "        rpn_head(\n",
    "            m=64, n=64, channel_num=1,\n",
    "            data_transformation=taylor_expansion(d=2, postprocess_functions='layer_norm', device=DEVICE),\n",
    "            parameter_fabrication=dual_lphm_reconciliation(p=8, q=64, r=5, device=DEVICE),\n",
    "            remainder=zero_remainder(device=DEVICE),\n",
    "            device=DEVICE\n",
    "        )\n",
    "    ],\n",
    "    device=DEVICE\n",
    ")\n",
    "\n",
    "layer_3 = rpn_layer(\n",
    "    m=64, n=10, heads=[\n",
    "        rpn_head(\n",
    "            m=64, n=10, channel_num=1,\n",
    "            data_transformation=taylor_expansion(d=2, postprocess_functions='layer_norm', device=DEVICE),\n",
    "            parameter_fabrication=dual_lphm_reconciliation(p=2, q=64, r=5, device=DEVICE),\n",
    "            remainder=zero_remainder(device=DEVICE),\n",
    "            device=DEVICE\n",
    "        )\n",
    "    ],\n",
    "    device=DEVICE\n",
    ")"
   ],
   "id": "fcf5704a9c16c2c6",
   "outputs": [],
   "execution_count": 55
  },
  {
   "metadata": {
    "ExecuteTime": {
     "end_time": "2024-07-06T20:51:33.984234Z",
     "start_time": "2024-07-06T20:51:33.982265Z"
    }
   },
   "cell_type": "code",
   "source": [
    "from tinybig.model import rpn\n",
    "\n",
    "model = rpn(\n",
    "    layers = [\n",
    "        layer_1,\n",
    "        layer_2,\n",
    "        layer_3\n",
    "    ],\n",
    "    device=DEVICE\n",
    ")"
   ],
   "id": "8b4105f3406808d4",
   "outputs": [],
   "execution_count": 56
  },
  {
   "metadata": {},
   "cell_type": "code",
   "outputs": [],
   "execution_count": null,
   "source": [
    "import torch\n",
    "from tinybig.learner import backward_learner\n",
    "\n",
    "optimizer=torch.optim.AdamW(lr=2.0e-03, weight_decay=2.0e-04, params=model.parameters())\n",
    "lr_scheduler=torch.optim.lr_scheduler.ExponentialLR(gamma=0.95, optimizer=optimizer)\n",
    "loss = torch.nn.CrossEntropyLoss()\n",
    "learner = backward_learner(n_epochs=3, optimizer=optimizer, loss=loss, lr_scheduler=lr_scheduler)\n"
   ],
   "id": "48221bb9f2353dc5"
  },
  {
   "metadata": {
    "ExecuteTime": {
     "end_time": "2024-07-06T20:51:42.899147Z",
     "start_time": "2024-07-06T20:51:33.985045Z"
    }
   },
   "cell_type": "code",
   "source": [
    "from tinybig.metric import accuracy\n",
    "\n",
    "print('parameter num: ', sum([parameter.numel() for parameter in model.parameters()]))\n",
    "\n",
    "metric = accuracy()\n",
    "training_records = learner.train(model=model, data_loader=mnist_loaders, metric=metric, device=DEVICE)"
   ],
   "id": "fa0dacaaf967442d",
   "outputs": [
    {
     "name": "stdout",
     "output_type": "stream",
     "text": [
      "parameter num:  9330\n"
     ]
    },
    {
     "name": "stderr",
     "output_type": "stream",
     "text": [
      " 21%|██        | 195/938 [00:08<00:33, 21.96it/s, epoch=0/3, loss=0.379, lr=0.002, metric_score=0.875, time=8.85]\n"
     ]
    },
    {
     "ename": "KeyboardInterrupt",
     "evalue": "",
     "output_type": "error",
     "traceback": [
      "\u001B[0;31m---------------------------------------------------------------------------\u001B[0m",
      "\u001B[0;31mKeyboardInterrupt\u001B[0m                         Traceback (most recent call last)",
      "Cell \u001B[0;32mIn[57], line 11\u001B[0m\n\u001B[1;32m      9\u001B[0m learner \u001B[38;5;241m=\u001B[39m backward_learner(n_epochs\u001B[38;5;241m=\u001B[39m\u001B[38;5;241m3\u001B[39m, optimizer\u001B[38;5;241m=\u001B[39moptimizer, loss\u001B[38;5;241m=\u001B[39mloss, lr_scheduler\u001B[38;5;241m=\u001B[39mlr_scheduler)\n\u001B[1;32m     10\u001B[0m \u001B[38;5;28mprint\u001B[39m(\u001B[38;5;124m'\u001B[39m\u001B[38;5;124mparameter num: \u001B[39m\u001B[38;5;124m'\u001B[39m, \u001B[38;5;28msum\u001B[39m([parameter\u001B[38;5;241m.\u001B[39mnumel() \u001B[38;5;28;01mfor\u001B[39;00m parameter \u001B[38;5;129;01min\u001B[39;00m model\u001B[38;5;241m.\u001B[39mparameters()]))\n\u001B[0;32m---> 11\u001B[0m training_records \u001B[38;5;241m=\u001B[39m \u001B[43mlearner\u001B[49m\u001B[38;5;241;43m.\u001B[39;49m\u001B[43mtrain\u001B[49m\u001B[43m(\u001B[49m\u001B[43mmodel\u001B[49m\u001B[38;5;241;43m=\u001B[39;49m\u001B[43mmodel\u001B[49m\u001B[43m,\u001B[49m\u001B[43m \u001B[49m\u001B[43mdata_loader\u001B[49m\u001B[38;5;241;43m=\u001B[39;49m\u001B[43mmnist_loaders\u001B[49m\u001B[43m,\u001B[49m\u001B[43m \u001B[49m\u001B[43mmetric\u001B[49m\u001B[38;5;241;43m=\u001B[39;49m\u001B[43mmetric\u001B[49m\u001B[43m,\u001B[49m\u001B[43m \u001B[49m\u001B[43mdevice\u001B[49m\u001B[38;5;241;43m=\u001B[39;49m\u001B[43mDEVICE\u001B[49m\u001B[43m)\u001B[49m\n",
      "File \u001B[0;32m~/PycharmProjects/tinyBIG/tinybig/learner/backward_learner.py:222\u001B[0m, in \u001B[0;36mbackward_learner.train\u001B[0;34m(self, model, data_loader, device, metric, test_check, disable_tqdm, display_step)\u001B[0m\n\u001B[1;32m    219\u001B[0m batch_start_time \u001B[38;5;241m=\u001B[39m time\u001B[38;5;241m.\u001B[39mtime()\n\u001B[1;32m    221\u001B[0m optimizer\u001B[38;5;241m.\u001B[39mzero_grad()\n\u001B[0;32m--> 222\u001B[0m y_score \u001B[38;5;241m=\u001B[39m \u001B[43mmodel\u001B[49m\u001B[43m(\u001B[49m\u001B[43mfeatures\u001B[49m\u001B[38;5;241;43m.\u001B[39;49m\u001B[43mto\u001B[49m\u001B[43m(\u001B[49m\u001B[43mdevice\u001B[49m\u001B[43m)\u001B[49m\u001B[43m,\u001B[49m\u001B[43m \u001B[49m\u001B[43mdevice\u001B[49m\u001B[38;5;241;43m=\u001B[39;49m\u001B[43mdevice\u001B[49m\u001B[43m)\u001B[49m\n\u001B[1;32m    223\u001B[0m y_pred \u001B[38;5;241m=\u001B[39m y_score\u001B[38;5;241m.\u001B[39margmax(dim\u001B[38;5;241m=\u001B[39m\u001B[38;5;241m1\u001B[39m)\u001B[38;5;241m.\u001B[39mtolist()\n\u001B[1;32m    224\u001B[0m loss \u001B[38;5;241m=\u001B[39m criterion(y_score, labels\u001B[38;5;241m.\u001B[39mto(device))\n",
      "File \u001B[0;32m~/PycharmProjects/tinyBIG/tinybig/model/base_model.py:123\u001B[0m, in \u001B[0;36mmodel.__call__\u001B[0;34m(self, *args, **kwargs)\u001B[0m\n\u001B[1;32m    112\u001B[0m \u001B[38;5;28;01mdef\u001B[39;00m \u001B[38;5;21m__call__\u001B[39m(\u001B[38;5;28mself\u001B[39m, \u001B[38;5;241m*\u001B[39margs, \u001B[38;5;241m*\u001B[39m\u001B[38;5;241m*\u001B[39mkwargs):\n\u001B[1;32m    113\u001B[0m \u001B[38;5;250m    \u001B[39m\u001B[38;5;124;03m\"\"\"\u001B[39;00m\n\u001B[1;32m    114\u001B[0m \u001B[38;5;124;03m    The built-in callable method.\u001B[39;00m\n\u001B[1;32m    115\u001B[0m \n\u001B[0;32m   (...)\u001B[0m\n\u001B[1;32m    121\u001B[0m \u001B[38;5;124;03m        The model generated outputs.\u001B[39;00m\n\u001B[1;32m    122\u001B[0m \u001B[38;5;124;03m    \"\"\"\u001B[39;00m\n\u001B[0;32m--> 123\u001B[0m     \u001B[38;5;28;01mreturn\u001B[39;00m \u001B[38;5;28;43mself\u001B[39;49m\u001B[38;5;241;43m.\u001B[39;49m\u001B[43mforward\u001B[49m\u001B[43m(\u001B[49m\u001B[38;5;241;43m*\u001B[39;49m\u001B[43margs\u001B[49m\u001B[43m,\u001B[49m\u001B[43m \u001B[49m\u001B[38;5;241;43m*\u001B[39;49m\u001B[38;5;241;43m*\u001B[39;49m\u001B[43mkwargs\u001B[49m\u001B[43m)\u001B[49m\n",
      "File \u001B[0;32m~/PycharmProjects/tinyBIG/tinybig/model/rpn.py:192\u001B[0m, in \u001B[0;36mrpn.forward\u001B[0;34m(self, x, device, *args, **kwargs)\u001B[0m\n\u001B[1;32m    158\u001B[0m \u001B[38;5;250m\u001B[39m\u001B[38;5;124mr\u001B[39m\u001B[38;5;124;03m\"\"\"\u001B[39;00m\n\u001B[1;32m    159\u001B[0m \u001B[38;5;124;03mThe forward method of the RPN model.\u001B[39;00m\n\u001B[1;32m    160\u001B[0m \n\u001B[0;32m   (...)\u001B[0m\n\u001B[1;32m    189\u001B[0m \u001B[38;5;124;03m    The desired outputs generated by the RPN model for the input data instances.\u001B[39;00m\n\u001B[1;32m    190\u001B[0m \u001B[38;5;124;03m\"\"\"\u001B[39;00m\n\u001B[1;32m    191\u001B[0m \u001B[38;5;28;01mfor\u001B[39;00m layer \u001B[38;5;129;01min\u001B[39;00m \u001B[38;5;28mself\u001B[39m\u001B[38;5;241m.\u001B[39mlayers:\n\u001B[0;32m--> 192\u001B[0m     x \u001B[38;5;241m=\u001B[39m \u001B[43mlayer\u001B[49m\u001B[43m(\u001B[49m\u001B[43mx\u001B[49m\u001B[43m,\u001B[49m\u001B[43m \u001B[49m\u001B[43mdevice\u001B[49m\u001B[38;5;241;43m=\u001B[39;49m\u001B[43mdevice\u001B[49m\u001B[43m)\u001B[49m\n\u001B[1;32m    193\u001B[0m \u001B[38;5;28;01mreturn\u001B[39;00m x\n",
      "File \u001B[0;32m~/PycharmProjects/tinyBIG/tinybig/module/layer.py:249\u001B[0m, in \u001B[0;36mrpn_layer.__call__\u001B[0;34m(self, *args, **kwargs)\u001B[0m\n\u001B[1;32m    238\u001B[0m \u001B[38;5;28;01mdef\u001B[39;00m \u001B[38;5;21m__call__\u001B[39m(\u001B[38;5;28mself\u001B[39m, \u001B[38;5;241m*\u001B[39margs, \u001B[38;5;241m*\u001B[39m\u001B[38;5;241m*\u001B[39mkwargs):\n\u001B[1;32m    239\u001B[0m \u001B[38;5;250m    \u001B[39m\u001B[38;5;124;03m\"\"\"\u001B[39;00m\n\u001B[1;32m    240\u001B[0m \u001B[38;5;124;03m    The re-implementatino of the callable method of this RPN layer module.\u001B[39;00m\n\u001B[1;32m    241\u001B[0m \n\u001B[0;32m   (...)\u001B[0m\n\u001B[1;32m    247\u001B[0m \u001B[38;5;124;03m        It will return the learning results of this RPN layer.\u001B[39;00m\n\u001B[1;32m    248\u001B[0m \u001B[38;5;124;03m    \"\"\"\u001B[39;00m\n\u001B[0;32m--> 249\u001B[0m     \u001B[38;5;28;01mreturn\u001B[39;00m \u001B[38;5;28;43mself\u001B[39;49m\u001B[38;5;241;43m.\u001B[39;49m\u001B[43mforward\u001B[49m\u001B[43m(\u001B[49m\u001B[38;5;241;43m*\u001B[39;49m\u001B[43margs\u001B[49m\u001B[43m,\u001B[49m\u001B[43m \u001B[49m\u001B[38;5;241;43m*\u001B[39;49m\u001B[38;5;241;43m*\u001B[39;49m\u001B[43mkwargs\u001B[49m\u001B[43m)\u001B[49m\n",
      "File \u001B[0;32m~/PycharmProjects/tinyBIG/tinybig/module/layer.py:284\u001B[0m, in \u001B[0;36mrpn_layer.forward\u001B[0;34m(self, x, fusion_strategy, device, *args, **kwargs)\u001B[0m\n\u001B[1;32m    282\u001B[0m results \u001B[38;5;241m=\u001B[39m []\n\u001B[1;32m    283\u001B[0m \u001B[38;5;28;01mfor\u001B[39;00m head \u001B[38;5;129;01min\u001B[39;00m \u001B[38;5;28mself\u001B[39m\u001B[38;5;241m.\u001B[39mheads:\n\u001B[0;32m--> 284\u001B[0m     results\u001B[38;5;241m.\u001B[39mappend(\u001B[43mhead\u001B[49m\u001B[43m(\u001B[49m\u001B[43mx\u001B[49m\u001B[38;5;241;43m=\u001B[39;49m\u001B[43mx\u001B[49m\u001B[43m,\u001B[49m\u001B[43m \u001B[49m\u001B[43mdevice\u001B[49m\u001B[38;5;241;43m=\u001B[39;49m\u001B[43mdevice\u001B[49m\u001B[43m)\u001B[49m)\n\u001B[1;32m    285\u001B[0m \u001B[38;5;66;03m# make sure all head results have consistent output shapes prior to fusion\u001B[39;00m\n\u001B[1;32m    286\u001B[0m \u001B[38;5;28;01massert\u001B[39;00m results \u001B[38;5;241m!=\u001B[39m [] \u001B[38;5;129;01mand\u001B[39;00m [results[\u001B[38;5;241m0\u001B[39m]\u001B[38;5;241m.\u001B[39mshape] \u001B[38;5;241m*\u001B[39m \u001B[38;5;28mlen\u001B[39m(results) \u001B[38;5;241m==\u001B[39m [result\u001B[38;5;241m.\u001B[39mshape \u001B[38;5;28;01mfor\u001B[39;00m result \u001B[38;5;129;01min\u001B[39;00m results]\n",
      "File \u001B[0;32m~/PycharmProjects/tinyBIG/tinybig/module/head.py:407\u001B[0m, in \u001B[0;36mrpn_head.__call__\u001B[0;34m(self, *args, **kwargs)\u001B[0m\n\u001B[1;32m    395\u001B[0m \u001B[38;5;28;01mdef\u001B[39;00m \u001B[38;5;21m__call__\u001B[39m(\u001B[38;5;28mself\u001B[39m, \u001B[38;5;241m*\u001B[39margs, \u001B[38;5;241m*\u001B[39m\u001B[38;5;241m*\u001B[39mkwargs):\n\u001B[1;32m    396\u001B[0m \u001B[38;5;250m    \u001B[39m\u001B[38;5;124;03m\"\"\"\u001B[39;00m\n\u001B[1;32m    397\u001B[0m \u001B[38;5;124;03m    The re-implementation of the builtin callable method based on the forward method.\u001B[39;00m\n\u001B[1;32m    398\u001B[0m \n\u001B[0;32m   (...)\u001B[0m\n\u001B[1;32m    405\u001B[0m \u001B[38;5;124;03m        The processed output of the head.\u001B[39;00m\n\u001B[1;32m    406\u001B[0m \u001B[38;5;124;03m    \"\"\"\u001B[39;00m\n\u001B[0;32m--> 407\u001B[0m     \u001B[38;5;28;01mreturn\u001B[39;00m \u001B[38;5;28;43mself\u001B[39;49m\u001B[38;5;241;43m.\u001B[39;49m\u001B[43mforward\u001B[49m\u001B[43m(\u001B[49m\u001B[38;5;241;43m*\u001B[39;49m\u001B[43margs\u001B[49m\u001B[43m,\u001B[49m\u001B[43m \u001B[49m\u001B[38;5;241;43m*\u001B[39;49m\u001B[38;5;241;43m*\u001B[39;49m\u001B[43mkwargs\u001B[49m\u001B[43m)\u001B[49m\n",
      "File \u001B[0;32m~/PycharmProjects/tinyBIG/tinybig/module/head.py:385\u001B[0m, in \u001B[0;36mrpn_head.forward\u001B[0;34m(self, x, device, *args, **kwargs)\u001B[0m\n\u001B[1;32m    381\u001B[0m     result \u001B[38;5;241m=\u001B[39m F\u001B[38;5;241m.\u001B[39mlinear(result, phi_w, bias\u001B[38;5;241m=\u001B[39m\u001B[38;5;28mself\u001B[39m\u001B[38;5;241m.\u001B[39mb)\n\u001B[1;32m    383\u001B[0m \u001B[38;5;28;01mif\u001B[39;00m \u001B[38;5;28mself\u001B[39m\u001B[38;5;241m.\u001B[39mremainder \u001B[38;5;129;01mis\u001B[39;00m \u001B[38;5;129;01mnot\u001B[39;00m \u001B[38;5;28;01mNone\u001B[39;00m:\n\u001B[1;32m    384\u001B[0m     \u001B[38;5;66;03m# [batch, m] x [n, m]^T + [n] -> [batch, n]\u001B[39;00m\n\u001B[0;32m--> 385\u001B[0m     pi_x \u001B[38;5;241m=\u001B[39m \u001B[38;5;28;43mself\u001B[39;49m\u001B[38;5;241;43m.\u001B[39;49m\u001B[43mremainder\u001B[49m\u001B[43m(\u001B[49m\u001B[43mx\u001B[49m\u001B[38;5;241;43m=\u001B[39;49m\u001B[43mx\u001B[49m\u001B[43m,\u001B[49m\u001B[43m \u001B[49m\u001B[43mw\u001B[49m\u001B[38;5;241;43m=\u001B[39;49m\u001B[38;5;28;43mself\u001B[39;49m\u001B[38;5;241;43m.\u001B[39;49m\u001B[43mw_prime\u001B[49m\u001B[43m,\u001B[49m\u001B[43m \u001B[49m\u001B[43mb\u001B[49m\u001B[38;5;241;43m=\u001B[39;49m\u001B[38;5;28;43mself\u001B[39;49m\u001B[38;5;241;43m.\u001B[39;49m\u001B[43mb_prime\u001B[49m\u001B[43m,\u001B[49m\u001B[43m \u001B[49m\u001B[43mm\u001B[49m\u001B[38;5;241;43m=\u001B[39;49m\u001B[38;5;28;43mself\u001B[39;49m\u001B[38;5;241;43m.\u001B[39;49m\u001B[43mm\u001B[49m\u001B[43m,\u001B[49m\u001B[43m \u001B[49m\u001B[43mn\u001B[49m\u001B[38;5;241;43m=\u001B[39;49m\u001B[38;5;28;43mself\u001B[39;49m\u001B[38;5;241;43m.\u001B[39;49m\u001B[43mn\u001B[49m\u001B[43m,\u001B[49m\u001B[43m \u001B[49m\u001B[43mdevice\u001B[49m\u001B[38;5;241;43m=\u001B[39;49m\u001B[43mdevice\u001B[49m\u001B[43m)\u001B[49m\u001B[38;5;241;43m.\u001B[39;49m\u001B[43mto\u001B[49m\u001B[43m(\u001B[49m\u001B[43mresult\u001B[49m\u001B[38;5;241;43m.\u001B[39;49m\u001B[43mdevice\u001B[49m\u001B[43m)\u001B[49m\n\u001B[1;32m    386\u001B[0m     \u001B[38;5;66;03m# [batch, n]\u001B[39;00m\n\u001B[1;32m    387\u001B[0m     result \u001B[38;5;241m+\u001B[39m\u001B[38;5;241m=\u001B[39m pi_x\n",
      "\u001B[0;31mKeyboardInterrupt\u001B[0m: "
     ]
    }
   ],
   "execution_count": 57
  },
  {
   "metadata": {},
   "cell_type": "code",
   "source": [
    "test_result = learner.test(model=model, test_loader=mnist_loaders['test_loader'], metric=metric, device=DEVICE)\n",
    "print(metric.__class__.__name__, metric.evaluate(y_true=test_result['y_true'], y_pred=test_result['y_pred'], y_score=test_result['y_score'], ))"
   ],
   "id": "4d71db9cd0e48468",
   "outputs": [],
   "execution_count": null
  }
 ],
 "metadata": {
  "kernelspec": {
   "display_name": "Python 3",
   "language": "python",
   "name": "python3"
  },
  "language_info": {
   "codemirror_mode": {
    "name": "ipython",
    "version": 2
   },
   "file_extension": ".py",
   "mimetype": "text/x-python",
   "name": "python",
   "nbconvert_exporter": "python",
   "pygments_lexer": "ipython2",
   "version": "2.7.6"
  }
 },
 "nbformat": 4,
 "nbformat_minor": 5
}
