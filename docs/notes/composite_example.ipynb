{
 "cells": [
  {
   "cell_type": "code",
   "id": "7c221a97b79087f1",
   "metadata": {
    "collapsed": true,
    "ExecuteTime": {
     "end_time": "2024-07-08T20:37:44.554003Z",
     "start_time": "2024-07-08T20:37:44.543012Z"
    }
   },
   "source": [
    "from tinybig.config import rpn_config\n",
    "from tinybig.util import set_random_seed\n",
    "\n",
    "print('loading configs...')\n",
    "config_file_name = 'composite_configs'\n",
    "config_obj = rpn_config()\n",
    "config = config_obj.load_yaml(cache_dir='./configs', config_file=config_file_name + '.yaml')\n",
    "print(config)"
   ],
   "outputs": [
    {
     "name": "stdout",
     "output_type": "stream",
     "text": [
      "loading configs...\n",
      "{'configurations': {'device': 'cpu', 'random_seed': 123, 'data_configs': {'data_class': 'tinybig.data.composite_function', 'data_parameters': {'name': 'elementary_function', 'train_batch_size': 100, 'test_batch_size': 100, 'equation_index': 3}}, 'learner_configs': {'learner_class': 'tinybig.learner.backward_learner', 'learner_parameters': {'name': 'error_backward_propagation', 'n_epochs': 2000, 'optimizer_configs': {'optimizer_class': 'torch.optim.AdamW', 'optimizer_parameters': {'lr': 0.003, 'weight_decay': 0.0001}}, 'lr_scheduler_configs': {'lr_scheduler_class': 'torch.optim.lr_scheduler.ExponentialLR', 'lr_scheduler_parameters': {'gamma': 0.999}}, 'loss_configs': {'loss_class': 'torch.nn.MSELoss', 'loss_parameters': {'reduction': 'mean'}}}}, 'model_configs': {'model_class': 'tinybig.model.rpn', 'model_parameters': {'name': 'reconciled_polynomial_network', 'depth': 3, 'depth_alloc': [2, 1], 'layer_configs': [{'layer_class': 'tinybig.module.rpn_layer', 'layer_parameters': {'name': 'rpn_layer', 'm': 2, 'n': 2, 'width': 1, 'width_alloc': [1], 'fusion_strategy': 'average', 'head_configs': [{'head_class': 'tinybig.module.rpn_head', 'head_parameters': {'l': None, 'channel_num': 1, 'data_transformation_configs': {'data_transformation_class': 'tinybig.expansion.nested_expansion', 'data_transformation_parameters': {'name': 'extended_expansion', 'expansion_function_configs': [{'expansion_class': 'tinybig.expansion.bspline_expansion', 'expansion_parameters': {'name': 'bspline_expansion', 't': 10, 'd': 4}}, {'expansion_class': 'tinybig.expansion.taylor_expansion', 'expansion_parameters': {'name': 'taylor_expansion', 'd': 2}}]}}, 'parameter_fabrication_configs': {'parameter_fabrication_class': 'tinybig.reconciliation.lorr_reconciliation', 'parameter_fabrication_parameters': {'name': 'lorr_reconciliation', 'r': 1}}, 'remainder_configs': {'remainder_class': 'tinybig.remainder.zero_remainder', 'remainder_parameters': {'name': 'zero_remainder', 'require_parameters': False, 'enable_bias': False}}}}]}}, {'layer_class': 'tinybig.module.rpn_layer', 'layer_parameters': {'name': 'rpn_layer', 'm': 2, 'n': 1, 'width': 1, 'width_alloc': [1], 'fusion_strategy': 'average', 'head_configs': [{'head_class': 'tinybig.module.rpn_head', 'head_parameters': {'l': None, 'channel_num': 1, 'data_transformation_configs': {'data_transformation_class': 'tinybig.expansion.nested_expansion', 'data_transformation_parameters': {'name': 'extended_expansion', 'expansion_function_configs': [{'expansion_class': 'tinybig.expansion.bspline_expansion', 'expansion_parameters': {'name': 'bspline_expansion', 't': 10, 'd': 4}}, {'expansion_class': 'tinybig.expansion.taylor_expansion', 'expansion_parameters': {'name': 'taylor_expansion', 'd': 2}}]}}, 'parameter_fabrication_configs': {'parameter_fabrication_class': 'tinybig.reconciliation.lorr_reconciliation', 'parameter_fabrication_parameters': {'name': 'lorr_reconciliation', 'r': 1}}, 'remainder_configs': {'remainder_class': 'tinybig.remainder.zero_remainder', 'remainder_parameters': {'name': 'zero_remainder', 'require_parameters': False, 'enable_bias': False}}}}]}}]}}, 'metric_configs': {'metric_class': 'tinybig.metric.mse', 'metric_parameters': {'name': 'mse'}}, 'result_configs': {'result_class': 'tinybig.output.rpn_output', 'result_parameters': {'name': 'rpn_output'}}}}\n"
     ]
    }
   ],
   "execution_count": 54
  },
  {
   "metadata": {
    "ExecuteTime": {
     "end_time": "2024-07-08T20:37:44.558487Z",
     "start_time": "2024-07-08T20:37:44.555194Z"
    }
   },
   "cell_type": "code",
   "source": [
    "print('setting up environments...')\n",
    "device = config['configurations'].pop('device')\n",
    "random_seed = config['configurations'].pop('random_seed')\n",
    "set_random_seed(random_seed)\n",
    "print('device: ', device, '; random_seed: ', random_seed)"
   ],
   "id": "initial_id",
   "outputs": [
    {
     "name": "stdout",
     "output_type": "stream",
     "text": [
      "setting up environments...\n",
      "device:  cpu ; random_seed:  123\n"
     ]
    }
   ],
   "execution_count": 55
  },
  {
   "metadata": {
    "ExecuteTime": {
     "end_time": "2024-07-08T20:37:44.562798Z",
     "start_time": "2024-07-08T20:37:44.559210Z"
    }
   },
   "cell_type": "code",
   "source": [
    "print('instantiating objects from config...')\n",
    "object_dict = config_obj.instantiate_object_from_config(config['configurations'])\n",
    "data_obj, model_obj, learner_obj, metric_obj, result_obj = [object_dict[name] for name in ['data', 'model', 'learner', 'metric', 'result']]\n",
    "print('parameter num: ', sum([parameter.numel() for parameter in model_obj.parameters()]))"
   ],
   "id": "8b522a245bba00cb",
   "outputs": [
    {
     "name": "stdout",
     "output_type": "stream",
     "text": [
      "instantiating objects from config...\n",
      "parameter num:  2441\n"
     ]
    }
   ],
   "execution_count": 56
  },
  {
   "metadata": {
    "ExecuteTime": {
     "end_time": "2024-07-08T20:37:44.594992Z",
     "start_time": "2024-07-08T20:37:44.564169Z"
    }
   },
   "cell_type": "code",
   "source": [
    "print('loading dataset...')\n",
    "data_loader = data_obj.load()\n",
    "print(data_loader['str_equation'])"
   ],
   "id": "914f0e5c4e1b0ab0",
   "outputs": [
    {
     "name": "stdout",
     "output_type": "stream",
     "text": [
      "loading dataset...\n",
      "C.3,3,f,exp(x+y)+ln(x+y),2,x,0,1,y,0,1\n"
     ]
    }
   ],
   "execution_count": 57
  },
  {
   "metadata": {
    "ExecuteTime": {
     "end_time": "2024-07-08T20:39:06.046038Z",
     "start_time": "2024-07-08T20:37:44.595636Z"
    }
   },
   "cell_type": "code",
   "source": [
    "print('training model...')\n",
    "training_records = learner_obj.train(model=model_obj, data_loader=data_loader, device=device,\n",
    "                                     metric=metric_obj, disable_tqdm=True, display_step=100)\n",
    "model_obj.save_ckpt(cache_dir='./ckpt', checkpoint_file=f'{config_file_name}_checkpoint')"
   ],
   "id": "4c528b7582b2a803",
   "outputs": [
    {
     "name": "stdout",
     "output_type": "stream",
     "text": [
      "training model...\n",
      "Epoch: 0, Test Loss: 11.524025630950927, Test Score: 11.524025590011567, Time Cost: 0.013231277465820312\n",
      "Epoch: 100, Test Loss: 0.00019555933140509297, Test Score: 0.00019555932755814802, Time Cost: 0.013195037841796875\n",
      "Epoch: 200, Test Loss: 7.714675048191566e-05, Test Score: 7.714674850153402e-05, Time Cost: 0.012295722961425781\n",
      "Epoch: 300, Test Loss: 0.00013800916640320792, Test Score: 0.00013800916351929066, Time Cost: 0.012665748596191406\n",
      "Epoch: 400, Test Loss: 2.8712480525427963e-05, Test Score: 2.8712480293826946e-05, Time Cost: 0.01266789436340332\n",
      "Epoch: 500, Test Loss: 3.685379961098079e-05, Test Score: 3.685379997127891e-05, Time Cost: 0.013297080993652344\n",
      "Epoch: 600, Test Loss: 3.0447333665506447e-05, Test Score: 3.044733344584222e-05, Time Cost: 0.013369083404541016\n",
      "Epoch: 700, Test Loss: 1.1872851132466167e-05, Test Score: 1.1872851446747989e-05, Time Cost: 0.012234210968017578\n",
      "Epoch: 800, Test Loss: 1.2467668420867995e-05, Test Score: 1.2467668700378854e-05, Time Cost: 0.012820959091186523\n",
      "Epoch: 900, Test Loss: 5.557340517725606e-06, Test Score: 5.55734092809318e-06, Time Cost: 0.013288259506225586\n",
      "Epoch: 1000, Test Loss: 4.7815968628128754e-06, Test Score: 4.781597052294418e-06, Time Cost: 0.01190495491027832\n",
      "Epoch: 1100, Test Loss: 4.237103911464146e-06, Test Score: 4.237103804128228e-06, Time Cost: 0.012598991394042969\n",
      "Epoch: 1200, Test Loss: 2.197282074121176e-05, Test Score: 2.197282073057921e-05, Time Cost: 0.012744903564453125\n",
      "Epoch: 1300, Test Loss: 3.8140039578138387e-06, Test Score: 3.8140041018272507e-06, Time Cost: 0.01267099380493164\n",
      "Epoch: 1400, Test Loss: 3.72746184780226e-06, Test Score: 3.727462029098072e-06, Time Cost: 0.01273798942565918\n",
      "Epoch: 1500, Test Loss: 3.4692119299961634e-06, Test Score: 3.469211785871784e-06, Time Cost: 0.013237953186035156\n",
      "Epoch: 1600, Test Loss: 2.7839222184411484e-06, Test Score: 2.7839218357336714e-06, Time Cost: 0.01250004768371582\n",
      "Epoch: 1700, Test Loss: 2.86189376765833e-06, Test Score: 2.8618937009219912e-06, Time Cost: 0.012468099594116211\n",
      "Epoch: 1800, Test Loss: 2.6949640925977293e-06, Test Score: 2.694964429513169e-06, Time Cost: 0.012969970703125\n",
      "Epoch: 1900, Test Loss: 2.25906337050219e-06, Test Score: 2.259063294561714e-06, Time Cost: 0.013056755065917969\n",
      "model checkpoint saving to ./ckpt/composite_configs_checkpoint...\n"
     ]
    }
   ],
   "execution_count": 58
  },
  {
   "metadata": {
    "ExecuteTime": {
     "end_time": "2024-07-08T20:39:06.064110Z",
     "start_time": "2024-07-08T20:39:06.047144Z"
    }
   },
   "cell_type": "code",
   "source": [
    "print('testing model...')\n",
    "test_result = learner_obj.test(model=model_obj, test_loader=data_loader['test_loader'], device=device,\n",
    "                               metric=metric_obj)"
   ],
   "id": "98bcda38c9c93421",
   "outputs": [
    {
     "name": "stdout",
     "output_type": "stream",
     "text": [
      "testing model...\n"
     ]
    }
   ],
   "execution_count": 59
  },
  {
   "metadata": {
    "ExecuteTime": {
     "end_time": "2024-07-08T20:39:06.067774Z",
     "start_time": "2024-07-08T20:39:06.065048Z"
    }
   },
   "cell_type": "code",
   "source": [
    "print('evaluating result...')\n",
    "print(metric_obj.__class__.__name__, metric_obj.evaluate(y_true=test_result['y_true'], y_pred=test_result['y_pred'], y_score=test_result['y_score'], ))"
   ],
   "id": "9f3f9ac63f65af4c",
   "outputs": [
    {
     "name": "stdout",
     "output_type": "stream",
     "text": [
      "evaluating result...\n",
      "mse 2.310927682198649e-06\n"
     ]
    }
   ],
   "execution_count": 60
  },
  {
   "metadata": {
    "ExecuteTime": {
     "end_time": "2024-07-08T20:39:06.101133Z",
     "start_time": "2024-07-08T20:39:06.068766Z"
    }
   },
   "cell_type": "code",
   "source": [
    "print('saving result...')\n",
    "result_obj.save(test_result, cache_dir='./result', output_file='{}_result'.format(config_file_name))\n",
    "result_obj.save(training_records, cache_dir='./result', output_file='{}_record'.format(config_file_name))"
   ],
   "id": "186c8c0e86d98969",
   "outputs": [
    {
     "name": "stdout",
     "output_type": "stream",
     "text": [
      "saving result...\n"
     ]
    }
   ],
   "execution_count": 61
  }
 ],
 "metadata": {
  "kernelspec": {
   "display_name": "Python 3",
   "language": "python",
   "name": "python3"
  },
  "language_info": {
   "codemirror_mode": {
    "name": "ipython",
    "version": 2
   },
   "file_extension": ".py",
   "mimetype": "text/x-python",
   "name": "python",
   "nbconvert_exporter": "python",
   "pygments_lexer": "ipython2",
   "version": "2.7.6"
  }
 },
 "nbformat": 4,
 "nbformat_minor": 5
}
